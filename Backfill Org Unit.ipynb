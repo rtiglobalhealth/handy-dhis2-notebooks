{
 "cells": [
  {
   "attachments": {},
   "cell_type": "markdown",
   "metadata": {},
   "source": [
    "## Overview\n",
    "\n",
    "Sometimes the MOH adds facilities that aren't in the project database. This script makes it easy to add these in using a payload that looks like this:\n",
    "\n",
    "```\n",
    "{\n",
    "    \"name\": \"testadfasdf\",\n",
    "    \"shortName\": \"testadfasdf\",\n",
    "    \"openingDate\": \"2023-02-01T07:00:00.000Z\",\n",
    "    \"parent\": {\n",
    "        \"id\": \"kuKm18r4bfg\"\n",
    "    }\n",
    "}\n",
    "```"
   ]
  },
  {
   "cell_type": "code",
   "execution_count": null,
   "metadata": {},
   "outputs": [],
   "source": [
    "\n",
    "# Load up environment\n",
    "from dotenv import load_dotenv\n",
    "import os\n",
    "\n",
    "load_dotenv()\n",
    "\n",
    "print('HANDY_DHIS2_USER_SOURCE: {}'.format(os.getenv('HANDY_DHIS2_USER_SOURCE')))\n",
    "print('HANDY_DHIS2_PASSWORD_SOURCE: {}'.format(os.getenv('HANDY_DHIS2_PASSWORD_SOURCE')))\n",
    "print('HANDY_DHIS2_HOST_SOURCE: {}'.format(os.getenv('HANDY_DHIS2_HOST_SOURCE')))\n",
    "\n",
    "print('HANDY_DHIS2_USER_DEST: {}'.format(os.getenv('HANDY_DHIS2_USER_DEST')))\n",
    "print('HANDY_DHIS2_PASSWORD_DEST: {}'.format(os.getenv('HANDY_DHIS2_PASSWORD_DEST')))\n",
    "print('HANDY_DHIS2_HOST_DEST: {}'.format(os.getenv('HANDY_DHIS2_HOST_DEST')))"
   ]
  },
  {
   "cell_type": "code",
   "execution_count": null,
   "metadata": {},
   "outputs": [],
   "source": [
    "import json\n",
    "# This is an metadata export of Organization Units\n",
    "\n",
    "f = open('/Users/apreston/Data/Senegal/DHIS2/senegal-ous.json')\n",
    "all_ous = json.load(f)\n"
   ]
  },
  {
   "cell_type": "code",
   "execution_count": null,
   "metadata": {},
   "outputs": [],
   "source": [
    "\n",
    "\n",
    "import json\n",
    "\n",
    "ous = []\n",
    "# Opening JSON file\n",
    "f = open('ou-conflicts.json') # this is the response payload with errors that orgs don't exist\n",
    "data = json.load(f)\n",
    "for conflict in data['response']['conflicts']:\n",
    "\n",
    "    # go through the whole darn list\n",
    "    for ou in all_ous['organisationUnits']:\n",
    "        if ou['id'] == conflict['object']:\n",
    "            myou = {}\n",
    "            myou['id']= ou['id']\n",
    "            myou['name']=ou['name']\n",
    "            myou['parent'] = ou['parent']\n",
    "            if 'geometry' in ou:\n",
    "                myou['geometry'] = ou['geometry']\n",
    "            ous.append(myou)\n",
    "    \n",
    "print('found {} new ous to add'.format( len(ous)) )"
   ]
  },
  {
   "cell_type": "code",
   "execution_count": null,
   "metadata": {},
   "outputs": [],
   "source": [
    "#add the missing orgs one at a time\n",
    "\n",
    "import requests\n",
    "import os\n",
    "\n",
    "for n in ous:\n",
    "\n",
    "    response = {}\n",
    "    response['id'] = n['id']\n",
    "    response['name'] = n['name']\n",
    "    response['shortName'] = n['name']\n",
    "    response['openingDate'] = '2020-02-01T07:00:00.000Z'\n",
    "    response['parent'] = { 'id' : n['parent']}\n",
    "\n",
    "    try:\n",
    "        r = requests.post(os.getenv('HANDY_DHIS2_HOST_DEST')+'/api/organisationUnits', json=response,\n",
    "              auth=(os.getenv('HANDY_DHIS2_USER_DEST'),os.getenv('HANDY_DHIS2_PASSWORD_DEST'))  )\n",
    "    except requests.exceptions.RequestException as e:  # This is the correct syntax\n",
    "        print(e)\n",
    "\n",
    "    print(r.text)\n",
    "\n",
    "\n"
   ]
  },
  {
   "cell_type": "code",
   "execution_count": null,
   "metadata": {},
   "outputs": [],
   "source": [
    "# Here is the curl command if you want\n",
    "print('curl --user '+os.getenv('HANDY_DHIS2_USER_DEST')+':'+os.getenv('HANDY_DHIS2_PASSWORD_DEST')+' '+os.getenv('HANDY_DHIS2_HOST_DEST') + '/api/organisationUnits --header \"Content-Type: application/json\" --data @covid-data-to-import.json')"
   ]
  }
 ],
 "metadata": {
  "kernelspec": {
   "display_name": "base",
   "language": "python",
   "name": "python3"
  },
  "language_info": {
   "codemirror_mode": {
    "name": "ipython",
    "version": 3
   },
   "file_extension": ".py",
   "mimetype": "text/x-python",
   "name": "python",
   "nbconvert_exporter": "python",
   "pygments_lexer": "ipython3",
   "version": "3.9.7"
  },
  "orig_nbformat": 4,
  "vscode": {
   "interpreter": {
    "hash": "7a7a3164391756e47d09bf198bad4ac4535ad8ef115eeae65f0594d956a3c499"
   }
  }
 },
 "nbformat": 4,
 "nbformat_minor": 2
}
