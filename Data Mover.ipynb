{
 "cells": [
  {
   "attachments": {},
   "cell_type": "markdown",
   "metadata": {},
   "source": [
    "### This moves data by data element id\n",
    "This goes well with [Copy Data Elements](Copy%20Data%20Elements.ipynb)"
   ]
  },
  {
   "cell_type": "code",
   "execution_count": null,
   "metadata": {},
   "outputs": [],
   "source": [
    "# Load up environment\n",
    "from dotenv import load_dotenv\n",
    "import os\n",
    "\n",
    "load_dotenv()\n",
    "\n",
    "print('HANDY_DHIS2_USER_SOURCE: {}'.format(os.getenv('HANDY_DHIS2_USER_SOURCE')))\n",
    "print('HANDY_DHIS2_PASSWORD_SOURCE: {}'.format(os.getenv('HANDY_DHIS2_PASSWORD_SOURCE')))\n",
    "print('HANDY_DHIS2_HOST_SOURCE: {}'.format(os.getenv('HANDY_DHIS2_HOST_SOURCE')))\n",
    "\n",
    "print('HANDY_DHIS2_USER_DEST: {}'.format(os.getenv('HANDY_DHIS2_USER_DEST')))\n",
    "print('HANDY_DHIS2_PASSWORD_DEST: {}'.format(os.getenv('HANDY_DHIS2_PASSWORD_DEST')))\n",
    "print('HANDY_DHIS2_HOST_DEST: {}'.format(os.getenv('HANDY_DHIS2_HOST_DEST')))"
   ]
  },
  {
   "cell_type": "code",
   "execution_count": null,
   "metadata": {},
   "outputs": [],
   "source": [
    "# \n",
    "## configure periods and dimensions for the query\n",
    "periods = [\n",
    "    '202207',\n",
    "    '202208',\n",
    "    '202209',\n",
    "    '202210',\n",
    "    '202211',\n",
    "    '202212'\n",
    "]\n",
    "pe = 'pe:'+';'.join(periods)\n",
    "\n",
    "\n",
    "dataelements = [\n",
    "    'wRCsRNiu6GM', # put the uids here\t\n",
    "    'GsfyPcBWyq7', # and the next one here\n",
    "    'kfR9YJE53sL', # you get it.\n",
    "]\n",
    "\n",
    "dx = 'dx:'+';'.join(dataelements)\n"
   ]
  },
  {
   "cell_type": "code",
   "execution_count": null,
   "metadata": {},
   "outputs": [],
   "source": [
    "# Export COVID data\n",
    "\n",
    "import requests\n",
    "import json\n",
    "\n",
    "\n",
    "try:\n",
    "    r = requests.get(os.getenv('HANDY_DHIS2_HOST_SOURCE')+'/api/36/analytics?dimension='+pe+','+dx+',zsiowv2DklL:UrluQ3FM2W1;CfYFBfERVhB,ou:LEVEL-yW5JtAxtSRb&displayProperty=NAME&skipMeta=false&includeMetadataDetails=true',\n",
    "              auth=(os.getenv('HANDY_DHIS2_USER_SOURCE'),os.getenv('HANDY_DHIS2_PASSWORD_SOURCE'))  )\n",
    "except requests.exceptions.RequestException as e:  # This is the correct syntax\n",
    "    print(e)\n",
    "\n",
    "response = r.json()\n",
    "\n",
    "#write this out\n",
    "with open('source-data.json', 'w') as outfile:\n",
    "    json.dump(response, outfile)"
   ]
  }
 ],
 "metadata": {
  "kernelspec": {
   "display_name": "base",
   "language": "python",
   "name": "python3"
  },
  "language_info": {
   "codemirror_mode": {
    "name": "ipython",
    "version": 3
   },
   "file_extension": ".py",
   "mimetype": "text/x-python",
   "name": "python",
   "nbconvert_exporter": "python",
   "pygments_lexer": "ipython3",
   "version": "3.9.7"
  },
  "orig_nbformat": 4,
  "vscode": {
   "interpreter": {
    "hash": "7a7a3164391756e47d09bf198bad4ac4535ad8ef115eeae65f0594d956a3c499"
   }
  }
 },
 "nbformat": 4,
 "nbformat_minor": 2
}
