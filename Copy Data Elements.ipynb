{
 "cells": [
  {
   "attachments": {},
   "cell_type": "markdown",
   "metadata": {},
   "source": [
    "# Copy data elements from one instance to another\n",
    "Do some basic things with metadata using the DHIS2 API"
   ]
  },
  {
   "cell_type": "code",
   "execution_count": 1,
   "metadata": {},
   "outputs": [
    {
     "name": "stdout",
     "output_type": "stream",
     "text": [
      "HANDY_DHIS2_USER_SOURCE: admin\n",
      "HANDY_DHIS2_PASSWORD_SOURCE: Thebig36d5$\n",
      "HANDY_DHIS2_HOST_SOURCE: https://owod.dhis2.rti-ghd.org\n",
      "HANDY_DHIS2_USER_DEST: admin\n",
      "HANDY_DHIS2_PASSWORD_DEST: district\n",
      "HANDY_DHIS2_HOST_DEST: http://localhost:8086\n"
     ]
    }
   ],
   "source": [
    "# Load up environment\n",
    "from dotenv import load_dotenv\n",
    "import os\n",
    "\n",
    "load_dotenv()\n",
    "\n",
    "print('HANDY_DHIS2_USER_SOURCE: {}'.format(os.getenv('HANDY_DHIS2_USER_SOURCE')))\n",
    "print('HANDY_DHIS2_PASSWORD_SOURCE: {}'.format(os.getenv('HANDY_DHIS2_PASSWORD_SOURCE')))\n",
    "print('HANDY_DHIS2_HOST_SOURCE: {}'.format(os.getenv('HANDY_DHIS2_HOST_SOURCE')))\n",
    "\n",
    "print('HANDY_DHIS2_USER_DEST: {}'.format(os.getenv('HANDY_DHIS2_USER_DEST')))\n",
    "print('HANDY_DHIS2_PASSWORD_DEST: {}'.format(os.getenv('HANDY_DHIS2_PASSWORD_DEST')))\n",
    "print('HANDY_DHIS2_HOST_DEST: {}'.format(os.getenv('HANDY_DHIS2_HOST_DEST')))"
   ]
  },
  {
   "cell_type": "code",
   "execution_count": 7,
   "metadata": {},
   "outputs": [],
   "source": [
    "import requests\n",
    "import json\n",
    "\n",
    "try:\n",
    "    r = requests.get(os.getenv('HANDY_DHIS2_HOST_SOURCE')+'/api/dataElements.json?paging=false&fields=*',\n",
    "              auth=(os.getenv('HANDY_DHIS2_USER_SOURCE'),os.getenv('HANDY_DHIS2_PASSWORD_SOURCE'))  )\n",
    "except requests.exceptions.RequestException as e:  # This is the correct syntax\n",
    "    print(e)\n",
    "\n",
    "response = r.json()\n",
    "\n",
    "with open('dataelments.json', 'w') as outfile:\n",
    "    json.dump(response, outfile)\n"
   ]
  },
  {
   "cell_type": "code",
   "execution_count": 17,
   "metadata": {},
   "outputs": [],
   "source": [
    "import json\n",
    "\n",
    "# Now load this in\n",
    "f = open('dataelments.json')\n",
    "data = json.load(f)\n",
    "\n",
    "dataelements = []\n",
    "for n in data['dataElements']:\n",
    "    dataelement = {}\n",
    "\n",
    "    if n['name'].startswith('Covid'):\n",
    "        dataelement['id'] = n['id']\n",
    "        dataelement['name'] = n['name']\n",
    "        dataelement['shortName'] = n['shortName']\n",
    "        dataelement['aggregationType'] = n['aggregationType']\n",
    "        dataelement['domainType'] = n['domainType']\n",
    "        dataelement['valueType'] = n['valueType']\n",
    "        dataelements.append(dataelement)\n",
    "    \n",
    "# put it in an object\n",
    "data = {}\n",
    "data['dataElements'] = dataelements"
   ]
  },
  {
   "cell_type": "code",
   "execution_count": 20,
   "metadata": {},
   "outputs": [],
   "source": [
    "import requests\n",
    "\n",
    "# and load this up\n",
    "try:\n",
    "    r = requests.post(os.getenv('HANDY_DHIS2_HOST_DEST')+'/api/metadata.json', json=data,\n",
    "              auth=(os.getenv('HANDY_DHIS2_USER_DEST'),os.getenv('HANDY_DHIS2_PASSWORD_DEST'))  )\n",
    "except requests.exceptions.RequestException as e:  # This is the correct syntax\n",
    "    print(e)\n",
    "\n",
    "r.text"
   ]
  },
  {
   "cell_type": "code",
   "execution_count": 19,
   "metadata": {},
   "outputs": [],
   "source": [
    "# write out (opttional)\n",
    "with open('file_for_importing.json', 'w') as outfile:\n",
    "    json.dump(data, outfile, ensure_ascii=False, indent=4)\n"
   ]
  },
  {
   "cell_type": "code",
   "execution_count": null,
   "metadata": {},
   "outputs": [],
   "source": [
    "# Here is the curl command if you want\n",
    "print('curl --user '+os.getenv('HANDY_DHIS2_USER_DEST')+':'+os.getenv('HANDY_DHIS2_PASSWORD_DEST')+' '+os.getenv('HANDY_DHIS2_HOST_DEST') + '/api/metadata.json --header \"Content-Type: application/json\" --data @file_for_importing.json')"
   ]
  }
 ],
 "metadata": {
  "kernelspec": {
   "display_name": "base",
   "language": "python",
   "name": "python3"
  },
  "language_info": {
   "codemirror_mode": {
    "name": "ipython",
    "version": 3
   },
   "file_extension": ".py",
   "mimetype": "text/x-python",
   "name": "python",
   "nbconvert_exporter": "python",
   "pygments_lexer": "ipython3",
   "version": "3.9.7"
  },
  "orig_nbformat": 4,
  "vscode": {
   "interpreter": {
    "hash": "7a7a3164391756e47d09bf198bad4ac4535ad8ef115eeae65f0594d956a3c499"
   }
  }
 },
 "nbformat": 4,
 "nbformat_minor": 2
}
